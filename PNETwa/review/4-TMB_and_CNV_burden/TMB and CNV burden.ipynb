{
 "cells": [
  {
   "cell_type": "code",
   "execution_count": 6,
   "metadata": {},
   "outputs": [
    {
     "name": "stdout",
     "output_type": "stream",
     "text": [
      "#1f77b4\n",
      "#ff7f0e\n",
      "#2ca02c\n",
      "#d62728\n",
      "#9467bd\n",
      "#8c564b\n",
      "#e377c2\n",
      "#7f7f7f\n",
      "#bcbd22\n",
      "#17becf\n"
     ]
    }
   ],
   "source": [
    "from pylab import *\n",
    "import seaborn as sns\n",
    "# cmap = cm.get_cmap('seismic', 5)    # PiYG\n",
    "cmap = sns.color_palette(None, 10)\n",
    "\n",
    "for c in cmap:\n",
    "#     print (c)\n",
    "# for i in range(cmap.N):\n",
    "#     rgba = cmap(i)\n",
    "#     # rgb2hex accepts rgb or rgba\n",
    "    print(matplotlib.colors.rgb2hex(c))"
   ]
  },
  {
   "cell_type": "code",
   "execution_count": null,
   "metadata": {},
   "outputs": [],
   "source": [
    "import pandas as pd\n",
    "import numpy as np\n",
    "from os.path import join\n",
    "from matplotlib import pyplot as plt\n",
    "import seaborn as sns"
   ]
  },
  {
   "cell_type": "code",
   "execution_count": 2,
   "metadata": {},
   "outputs": [],
   "source": [
    "import os\n",
    "import sys\n",
    "from os.path import dirname, realpath, join\n",
    "base_dir = dirname(dirname(os.getcwd()))\n",
    "sys.path.insert(0, base_dir)\n",
    "from config_path import PROSTATE_DATA_PATH, PLOTS_PATH"
   ]
  },
  {
   "cell_type": "code",
   "execution_count": 3,
   "metadata": {},
   "outputs": [],
   "source": [
    "base_dir = join(PROSTATE_DATA_PATH, 'raw_data')\n",
    "filename = '41588_2018_78_MOESM5_ESM.xlsx'\n",
    "data= pd.read_excel(join(base_dir, filename), skiprows=2, index_col=1)"
   ]
  },
  {
   "cell_type": "code",
   "execution_count": 4,
   "metadata": {},
   "outputs": [
    {
     "data": {
      "text/html": [
       "<div>\n",
       "<style scoped>\n",
       "    .dataframe tbody tr th:only-of-type {\n",
       "        vertical-align: middle;\n",
       "    }\n",
       "\n",
       "    .dataframe tbody tr th {\n",
       "        vertical-align: top;\n",
       "    }\n",
       "\n",
       "    .dataframe thead th {\n",
       "        text-align: right;\n",
       "    }\n",
       "</style>\n",
       "<table border=\"1\" class=\"dataframe\">\n",
       "  <thead>\n",
       "    <tr style=\"text-align: right;\">\n",
       "      <th></th>\n",
       "      <th>Cancer.Type.Detailed</th>\n",
       "      <th>Mutation_count</th>\n",
       "      <th>Mutation burden (Mutations per Megabase)</th>\n",
       "      <th>Normal Coverage</th>\n",
       "      <th>Tumor Coverage</th>\n",
       "      <th>Fraction of genome altered</th>\n",
       "      <th>Ploidy</th>\n",
       "      <th>Purity</th>\n",
       "      <th>Sample.Type</th>\n",
       "      <th>Metastatic.Site</th>\n",
       "      <th>Radical.Prostatectomy.Gleason.Score.for.Prostate.Cancer</th>\n",
       "      <th>Reviewed.Gleason.Category</th>\n",
       "      <th>Fusion</th>\n",
       "      <th>Age</th>\n",
       "      <th>Data.Source</th>\n",
       "    </tr>\n",
       "    <tr>\n",
       "      <th>Patient.ID</th>\n",
       "      <th></th>\n",
       "      <th></th>\n",
       "      <th></th>\n",
       "      <th></th>\n",
       "      <th></th>\n",
       "      <th></th>\n",
       "      <th></th>\n",
       "      <th></th>\n",
       "      <th></th>\n",
       "      <th></th>\n",
       "      <th></th>\n",
       "      <th></th>\n",
       "      <th></th>\n",
       "      <th></th>\n",
       "      <th></th>\n",
       "    </tr>\n",
       "  </thead>\n",
       "  <tbody>\n",
       "    <tr>\n",
       "      <th>AAPC-STID0000011640-Tumor-SM-2XU1H</th>\n",
       "      <td>Prostate Adenocarcinoma</td>\n",
       "      <td>8</td>\n",
       "      <td>0.206976</td>\n",
       "      <td>87.13</td>\n",
       "      <td>86.01</td>\n",
       "      <td>0.010487</td>\n",
       "      <td>2.024373</td>\n",
       "      <td>0.216579</td>\n",
       "      <td>Primary</td>\n",
       "      <td>NaN</td>\n",
       "      <td>7</td>\n",
       "      <td>3+4</td>\n",
       "      <td>NaN</td>\n",
       "      <td>40.0</td>\n",
       "      <td>AAPC</td>\n",
       "    </tr>\n",
       "    <tr>\n",
       "      <th>AAPC-STID0000021561-Tumor-SM-3RVWB</th>\n",
       "      <td>Prostate Adenocarcinoma</td>\n",
       "      <td>35</td>\n",
       "      <td>0.838843</td>\n",
       "      <td>171.94</td>\n",
       "      <td>129.16</td>\n",
       "      <td>0.135831</td>\n",
       "      <td>1.969338</td>\n",
       "      <td>0.300000</td>\n",
       "      <td>Primary</td>\n",
       "      <td>NaN</td>\n",
       "      <td>7</td>\n",
       "      <td>3+4</td>\n",
       "      <td>NaN</td>\n",
       "      <td>45.0</td>\n",
       "      <td>AAPC</td>\n",
       "    </tr>\n",
       "    <tr>\n",
       "      <th>AAPC-STID0000011949-Tumor-SM-2XU1I</th>\n",
       "      <td>Prostate Adenocarcinoma</td>\n",
       "      <td>23</td>\n",
       "      <td>0.433527</td>\n",
       "      <td>102.92</td>\n",
       "      <td>69.41</td>\n",
       "      <td>0.190097</td>\n",
       "      <td>2.072929</td>\n",
       "      <td>0.492816</td>\n",
       "      <td>Primary</td>\n",
       "      <td>NaN</td>\n",
       "      <td>&gt;=8</td>\n",
       "      <td>5+4</td>\n",
       "      <td>NaN</td>\n",
       "      <td>46.0</td>\n",
       "      <td>AAPC</td>\n",
       "    </tr>\n",
       "    <tr>\n",
       "      <th>AAPC-STID0000021610-Tumor-SM-2XU13</th>\n",
       "      <td>Prostate Adenocarcinoma</td>\n",
       "      <td>19</td>\n",
       "      <td>0.364544</td>\n",
       "      <td>111.26</td>\n",
       "      <td>89.49</td>\n",
       "      <td>0.054238</td>\n",
       "      <td>2.091553</td>\n",
       "      <td>0.300396</td>\n",
       "      <td>Primary</td>\n",
       "      <td>NaN</td>\n",
       "      <td>6</td>\n",
       "      <td>3+3</td>\n",
       "      <td>NaN</td>\n",
       "      <td>48.0</td>\n",
       "      <td>AAPC</td>\n",
       "    </tr>\n",
       "    <tr>\n",
       "      <th>AAPC-STID0000021537-Tumor-SM-3RVW7</th>\n",
       "      <td>Prostate Adenocarcinoma</td>\n",
       "      <td>16</td>\n",
       "      <td>0.460031</td>\n",
       "      <td>106.96</td>\n",
       "      <td>108.37</td>\n",
       "      <td>0.054551</td>\n",
       "      <td>1.855555</td>\n",
       "      <td>0.300000</td>\n",
       "      <td>Primary</td>\n",
       "      <td>NaN</td>\n",
       "      <td>7</td>\n",
       "      <td>3+4</td>\n",
       "      <td>NaN</td>\n",
       "      <td>48.0</td>\n",
       "      <td>AAPC</td>\n",
       "    </tr>\n",
       "  </tbody>\n",
       "</table>\n",
       "</div>"
      ],
      "text/plain": [
       "                                       Cancer.Type.Detailed  Mutation_count  \\\n",
       "Patient.ID                                                                    \n",
       "AAPC-STID0000011640-Tumor-SM-2XU1H  Prostate Adenocarcinoma               8   \n",
       "AAPC-STID0000021561-Tumor-SM-3RVWB  Prostate Adenocarcinoma              35   \n",
       "AAPC-STID0000011949-Tumor-SM-2XU1I  Prostate Adenocarcinoma              23   \n",
       "AAPC-STID0000021610-Tumor-SM-2XU13  Prostate Adenocarcinoma              19   \n",
       "AAPC-STID0000021537-Tumor-SM-3RVW7  Prostate Adenocarcinoma              16   \n",
       "\n",
       "                                    Mutation burden (Mutations per Megabase)  \\\n",
       "Patient.ID                                                                     \n",
       "AAPC-STID0000011640-Tumor-SM-2XU1H                                  0.206976   \n",
       "AAPC-STID0000021561-Tumor-SM-3RVWB                                  0.838843   \n",
       "AAPC-STID0000011949-Tumor-SM-2XU1I                                  0.433527   \n",
       "AAPC-STID0000021610-Tumor-SM-2XU13                                  0.364544   \n",
       "AAPC-STID0000021537-Tumor-SM-3RVW7                                  0.460031   \n",
       "\n",
       "                                    Normal Coverage  Tumor Coverage  \\\n",
       "Patient.ID                                                            \n",
       "AAPC-STID0000011640-Tumor-SM-2XU1H            87.13           86.01   \n",
       "AAPC-STID0000021561-Tumor-SM-3RVWB           171.94          129.16   \n",
       "AAPC-STID0000011949-Tumor-SM-2XU1I           102.92           69.41   \n",
       "AAPC-STID0000021610-Tumor-SM-2XU13           111.26           89.49   \n",
       "AAPC-STID0000021537-Tumor-SM-3RVW7           106.96          108.37   \n",
       "\n",
       "                                    Fraction of genome altered    Ploidy  \\\n",
       "Patient.ID                                                                 \n",
       "AAPC-STID0000011640-Tumor-SM-2XU1H                    0.010487  2.024373   \n",
       "AAPC-STID0000021561-Tumor-SM-3RVWB                    0.135831  1.969338   \n",
       "AAPC-STID0000011949-Tumor-SM-2XU1I                    0.190097  2.072929   \n",
       "AAPC-STID0000021610-Tumor-SM-2XU13                    0.054238  2.091553   \n",
       "AAPC-STID0000021537-Tumor-SM-3RVW7                    0.054551  1.855555   \n",
       "\n",
       "                                      Purity Sample.Type Metastatic.Site  \\\n",
       "Patient.ID                                                                 \n",
       "AAPC-STID0000011640-Tumor-SM-2XU1H  0.216579     Primary             NaN   \n",
       "AAPC-STID0000021561-Tumor-SM-3RVWB  0.300000     Primary             NaN   \n",
       "AAPC-STID0000011949-Tumor-SM-2XU1I  0.492816     Primary             NaN   \n",
       "AAPC-STID0000021610-Tumor-SM-2XU13  0.300396     Primary             NaN   \n",
       "AAPC-STID0000021537-Tumor-SM-3RVW7  0.300000     Primary             NaN   \n",
       "\n",
       "                                   Radical.Prostatectomy.Gleason.Score.for.Prostate.Cancer  \\\n",
       "Patient.ID                                                                                   \n",
       "AAPC-STID0000011640-Tumor-SM-2XU1H                                                  7        \n",
       "AAPC-STID0000021561-Tumor-SM-3RVWB                                                  7        \n",
       "AAPC-STID0000011949-Tumor-SM-2XU1I                                                >=8        \n",
       "AAPC-STID0000021610-Tumor-SM-2XU13                                                  6        \n",
       "AAPC-STID0000021537-Tumor-SM-3RVW7                                                  7        \n",
       "\n",
       "                                   Reviewed.Gleason.Category Fusion   Age  \\\n",
       "Patient.ID                                                                  \n",
       "AAPC-STID0000011640-Tumor-SM-2XU1H                       3+4    NaN  40.0   \n",
       "AAPC-STID0000021561-Tumor-SM-3RVWB                       3+4    NaN  45.0   \n",
       "AAPC-STID0000011949-Tumor-SM-2XU1I                       5+4    NaN  46.0   \n",
       "AAPC-STID0000021610-Tumor-SM-2XU13                       3+3    NaN  48.0   \n",
       "AAPC-STID0000021537-Tumor-SM-3RVW7                       3+4    NaN  48.0   \n",
       "\n",
       "                                   Data.Source  \n",
       "Patient.ID                                      \n",
       "AAPC-STID0000011640-Tumor-SM-2XU1H        AAPC  \n",
       "AAPC-STID0000021561-Tumor-SM-3RVWB        AAPC  \n",
       "AAPC-STID0000011949-Tumor-SM-2XU1I        AAPC  \n",
       "AAPC-STID0000021610-Tumor-SM-2XU13        AAPC  \n",
       "AAPC-STID0000021537-Tumor-SM-3RVW7        AAPC  "
      ]
     },
     "execution_count": 4,
     "metadata": {},
     "output_type": "execute_result"
    }
   ],
   "source": [
    "data.head()"
   ]
  },
  {
   "cell_type": "code",
   "execution_count": 5,
   "metadata": {},
   "outputs": [],
   "source": [
    "cnv= data['Fraction of genome altered']\n",
    "mut= data['Mutation_count']"
   ]
  },
  {
   "cell_type": "code",
   "execution_count": 6,
   "metadata": {},
   "outputs": [
    {
     "data": {
      "text/plain": [
       "Patient.ID\n",
       "AAPC-STID0000011640-Tumor-SM-2XU1H    0.010487\n",
       "AAPC-STID0000021561-Tumor-SM-3RVWB    0.135831\n",
       "AAPC-STID0000011949-Tumor-SM-2XU1I    0.190097\n",
       "AAPC-STID0000021610-Tumor-SM-2XU13    0.054238\n",
       "AAPC-STID0000021537-Tumor-SM-3RVW7    0.054551\n",
       "Name: Fraction of genome altered, dtype: float64"
      ]
     },
     "execution_count": 6,
     "metadata": {},
     "output_type": "execute_result"
    }
   ],
   "source": [
    "cnv.head()"
   ]
  },
  {
   "cell_type": "code",
   "execution_count": 7,
   "metadata": {},
   "outputs": [],
   "source": [
    "response_filename = 'response_paper.csv'\n",
    "processed_path = join(PROSTATE_DATA_PATH, 'processed')\n",
    "labels = pd.read_csv(join(processed_path, response_filename))"
   ]
  },
  {
   "cell_type": "code",
   "execution_count": 8,
   "metadata": {},
   "outputs": [
    {
     "data": {
      "text/html": [
       "<div>\n",
       "<style scoped>\n",
       "    .dataframe tbody tr th:only-of-type {\n",
       "        vertical-align: middle;\n",
       "    }\n",
       "\n",
       "    .dataframe tbody tr th {\n",
       "        vertical-align: top;\n",
       "    }\n",
       "\n",
       "    .dataframe thead th {\n",
       "        text-align: right;\n",
       "    }\n",
       "</style>\n",
       "<table border=\"1\" class=\"dataframe\">\n",
       "  <thead>\n",
       "    <tr style=\"text-align: right;\">\n",
       "      <th></th>\n",
       "      <th>response</th>\n",
       "    </tr>\n",
       "    <tr>\n",
       "      <th>id</th>\n",
       "      <th></th>\n",
       "    </tr>\n",
       "  </thead>\n",
       "  <tbody>\n",
       "    <tr>\n",
       "      <th>AAPC-STID0000011640-Tumor-SM-2XU1H</th>\n",
       "      <td>0</td>\n",
       "    </tr>\n",
       "    <tr>\n",
       "      <th>AAPC-STID0000021561-Tumor-SM-3RVWB</th>\n",
       "      <td>0</td>\n",
       "    </tr>\n",
       "    <tr>\n",
       "      <th>AAPC-STID0000011949-Tumor-SM-2XU1I</th>\n",
       "      <td>0</td>\n",
       "    </tr>\n",
       "    <tr>\n",
       "      <th>AAPC-STID0000021610-Tumor-SM-2XU13</th>\n",
       "      <td>0</td>\n",
       "    </tr>\n",
       "    <tr>\n",
       "      <th>AAPC-STID0000021537-Tumor-SM-3RVW7</th>\n",
       "      <td>0</td>\n",
       "    </tr>\n",
       "  </tbody>\n",
       "</table>\n",
       "</div>"
      ],
      "text/plain": [
       "                                    response\n",
       "id                                          \n",
       "AAPC-STID0000011640-Tumor-SM-2XU1H         0\n",
       "AAPC-STID0000021561-Tumor-SM-3RVWB         0\n",
       "AAPC-STID0000011949-Tumor-SM-2XU1I         0\n",
       "AAPC-STID0000021610-Tumor-SM-2XU13         0\n",
       "AAPC-STID0000021537-Tumor-SM-3RVW7         0"
      ]
     },
     "execution_count": 8,
     "metadata": {},
     "output_type": "execute_result"
    }
   ],
   "source": [
    "labels = labels.set_index('id')\n",
    "labels.head()"
   ]
  },
  {
   "cell_type": "code",
   "execution_count": 9,
   "metadata": {},
   "outputs": [],
   "source": [
    "mut_df = mut.to_frame()\n",
    "cnv_df = cnv.to_frame()\n",
    "data = mut_df.join(cnv, how='inner')"
   ]
  },
  {
   "cell_type": "code",
   "execution_count": 10,
   "metadata": {},
   "outputs": [],
   "source": [
    "\n",
    "# mut_df =mut_df.join(labels, how='inner')\n",
    "# mut_df = mut_df.join(cnv, how='inner')"
   ]
  },
  {
   "cell_type": "code",
   "execution_count": 11,
   "metadata": {},
   "outputs": [
    {
     "data": {
      "text/html": [
       "<div>\n",
       "<style scoped>\n",
       "    .dataframe tbody tr th:only-of-type {\n",
       "        vertical-align: middle;\n",
       "    }\n",
       "\n",
       "    .dataframe tbody tr th {\n",
       "        vertical-align: top;\n",
       "    }\n",
       "\n",
       "    .dataframe thead th {\n",
       "        text-align: right;\n",
       "    }\n",
       "</style>\n",
       "<table border=\"1\" class=\"dataframe\">\n",
       "  <thead>\n",
       "    <tr style=\"text-align: right;\">\n",
       "      <th></th>\n",
       "      <th>Mutation_count</th>\n",
       "      <th>Fraction of genome altered</th>\n",
       "    </tr>\n",
       "    <tr>\n",
       "      <th>Patient.ID</th>\n",
       "      <th></th>\n",
       "      <th></th>\n",
       "    </tr>\n",
       "  </thead>\n",
       "  <tbody>\n",
       "    <tr>\n",
       "      <th>AAPC-STID0000011640-Tumor-SM-2XU1H</th>\n",
       "      <td>8</td>\n",
       "      <td>0.010487</td>\n",
       "    </tr>\n",
       "    <tr>\n",
       "      <th>AAPC-STID0000021561-Tumor-SM-3RVWB</th>\n",
       "      <td>35</td>\n",
       "      <td>0.135831</td>\n",
       "    </tr>\n",
       "    <tr>\n",
       "      <th>AAPC-STID0000011949-Tumor-SM-2XU1I</th>\n",
       "      <td>23</td>\n",
       "      <td>0.190097</td>\n",
       "    </tr>\n",
       "    <tr>\n",
       "      <th>AAPC-STID0000021610-Tumor-SM-2XU13</th>\n",
       "      <td>19</td>\n",
       "      <td>0.054238</td>\n",
       "    </tr>\n",
       "    <tr>\n",
       "      <th>AAPC-STID0000021537-Tumor-SM-3RVW7</th>\n",
       "      <td>16</td>\n",
       "      <td>0.054551</td>\n",
       "    </tr>\n",
       "  </tbody>\n",
       "</table>\n",
       "</div>"
      ],
      "text/plain": [
       "                                    Mutation_count  Fraction of genome altered\n",
       "Patient.ID                                                                    \n",
       "AAPC-STID0000011640-Tumor-SM-2XU1H               8                    0.010487\n",
       "AAPC-STID0000021561-Tumor-SM-3RVWB              35                    0.135831\n",
       "AAPC-STID0000011949-Tumor-SM-2XU1I              23                    0.190097\n",
       "AAPC-STID0000021610-Tumor-SM-2XU13              19                    0.054238\n",
       "AAPC-STID0000021537-Tumor-SM-3RVW7              16                    0.054551"
      ]
     },
     "execution_count": 11,
     "metadata": {},
     "output_type": "execute_result"
    }
   ],
   "source": [
    "data.head()"
   ]
  },
  {
   "cell_type": "code",
   "execution_count": 12,
   "metadata": {},
   "outputs": [],
   "source": [
    "def get_traing_testing_sets():\n",
    "    traiing_file = join(PROSTATE_DATA_PATH,'splits/training_set.csv')\n",
    "    training_set = pd.read_csv(traiing_file, index_col=1)\n",
    "    test_file = join(PROSTATE_DATA_PATH,'splits/test_set.csv')\n",
    "    test_set = pd.read_csv(traiing_file, index_col=1)\n",
    "    return training_set, test_set\n",
    "    "
   ]
  },
  {
   "cell_type": "code",
   "execution_count": 13,
   "metadata": {},
   "outputs": [],
   "source": [
    "def split_dataset(data, labels):\n",
    "    filtered = data.join(labels, how='inner')\n",
    "    y = filtered['response']\n",
    "    filtered = filtered[['Mutation_count','Fraction of genome altered']]\n",
    "    return filtered, y\n",
    "    "
   ]
  },
  {
   "cell_type": "code",
   "execution_count": 15,
   "metadata": {},
   "outputs": [],
   "source": [
    "training_set, test_set = get_traing_testing_sets()"
   ]
  },
  {
   "cell_type": "code",
   "execution_count": 16,
   "metadata": {},
   "outputs": [],
   "source": [
    "x_train, y_train = split_dataset(data, training_set)\n",
    "x_test, y_test = split_dataset(data, test_set)"
   ]
  },
  {
   "cell_type": "code",
   "execution_count": 17,
   "metadata": {},
   "outputs": [
    {
     "data": {
      "text/plain": [
       "AAPC-STID0000011640-Tumor-SM-2XU1H    0\n",
       "AAPC-STID0000021561-Tumor-SM-3RVWB    0\n",
       "AAPC-STID0000011949-Tumor-SM-2XU1I    0\n",
       "AAPC-STID0000021610-Tumor-SM-2XU13    0\n",
       "AAPC-STID0000002520-Tumor-SM-2XTZB    0\n",
       "Name: response, dtype: int64"
      ]
     },
     "execution_count": 17,
     "metadata": {},
     "output_type": "execute_result"
    }
   ],
   "source": [
    "y_test.head()"
   ]
  },
  {
   "cell_type": "code",
   "execution_count": 18,
   "metadata": {},
   "outputs": [],
   "source": [
    "from sklearn.linear_model import Ridge\n",
    "model = Ridge()"
   ]
  },
  {
   "cell_type": "code",
   "execution_count": 19,
   "metadata": {},
   "outputs": [
    {
     "data": {
      "text/plain": [
       "Ridge(alpha=1.0, copy_X=True, fit_intercept=True, max_iter=None,\n",
       "   normalize=False, random_state=None, solver='auto', tol=0.001)"
      ]
     },
     "execution_count": 19,
     "metadata": {},
     "output_type": "execute_result"
    }
   ],
   "source": [
    "model.fit(x_train.values, y_train.values)"
   ]
  },
  {
   "cell_type": "code",
   "execution_count": 20,
   "metadata": {},
   "outputs": [],
   "source": [
    "pred = model.predict(x_test.values)"
   ]
  },
  {
   "cell_type": "code",
   "execution_count": 21,
   "metadata": {},
   "outputs": [],
   "source": [
    "# pred"
   ]
  },
  {
   "cell_type": "code",
   "execution_count": 27,
   "metadata": {},
   "outputs": [
    {
     "data": {
      "text/plain": [
       "0.7753736046418973"
      ]
     },
     "execution_count": 27,
     "metadata": {},
     "output_type": "execute_result"
    }
   ],
   "source": [
    "from sklearn import metrics\n",
    "auc = metrics.roc_auc_score(y_test, pred)\n",
    "auc"
   ]
  },
  {
   "cell_type": "markdown",
   "metadata": {},
   "source": [
    "## Visualization"
   ]
  },
  {
   "cell_type": "code",
   "execution_count": 80,
   "metadata": {},
   "outputs": [],
   "source": [
    "filename = '41588_2018_78_MOESM5_ESM.xlsx'\n",
    "base_dir = join(PROSTATE_DATA_PATH, 'raw_data')\n",
    "df= pd.read_excel(join(base_dir, filename), skiprows=2)\n",
    "\n",
    "df_mets= df[df['Sample.Type']=='Metastasis'].copy()\n",
    "df_primary = df[df['Sample.Type']=='Primary'].copy()\n",
    "\n",
    "mutations_mets = df_mets['Mutation_count']\n",
    "cnv_mets = df_mets['Fraction of genome altered']\n",
    "\n",
    "mutations_primary = df_primary['Mutation_count']\n",
    "cnv_primary = df_primary['Fraction of genome altered']"
   ]
  },
  {
   "cell_type": "code",
   "execution_count": 84,
   "metadata": {},
   "outputs": [],
   "source": [
    "from matplotlib import pyplot as plt\n",
    "import numpy as np"
   ]
  },
  {
   "cell_type": "code",
   "execution_count": 93,
   "metadata": {},
   "outputs": [
    {
     "data": {
      "image/png": "[encoded data removed]",
      "text/plain": [
       "<matplotlib.figure.Figure at 0x10a723290>"
      ]
     },
     "metadata": {
      "needs_background": "light"
     },
     "output_type": "display_data"
    }
   ],
   "source": [
    "fig = plt.figure()\n",
    "fig.set_size_inches(12, 8)\n",
    "\n",
    "plt.subplot(3,1,1)\n",
    "plt.plot(np.log(1+mutations_mets), cnv_mets, 'r.')\n",
    "# plt.xlabel('log(1+ # mutations)', fontsize=18)\n",
    "plt.title('Metastatic')\n",
    "plt.ylabel('CNA', fontsize=18)\n",
    "plt.xlim((0,8))\n",
    "plt.subplot(3,1,2)\n",
    "\n",
    "plt.plot(np.log(1+mutations_primary),cnv_primary , 'b.')\n",
    "# plt.xlabel('log(1+ # mutations)', fontsize=18)\n",
    "plt.title('Primary')\n",
    "plt.ylabel('CNA', fontsize=18)\n",
    "plt.xlim((0,8))\n",
    "plt.subplot(3,1,3)\n",
    "\n",
    "plt.scatter(np.log(1+mutations_mets), cnv_mets, edgecolors ='r', facecolors='none')\n",
    "plt.scatter(np.log(1+mutations_primary), cnv_primary, edgecolors= 'b', facecolors='none')\n",
    "plt.xlim((0,8))\n",
    "# plt.title('Primary and Metastatic')\n",
    "\n",
    "plt.xlabel('log(1+ # mutations)', fontsize=18)\n",
    "plt.ylabel('CNA', fontsize=18)\n",
    "plt.legend(['Primary', 'Metastatic'])\n",
    "saving_dir  = join(PLOTS_PATH, 'reviews')\n",
    "filename = join(saving_dir, 'mut_cn.png')\n",
    "plt.savefig(filename)"
   ]
  },
  {
   "cell_type": "code",
   "execution_count": 91,
   "metadata": {},
   "outputs": [
    {
     "data": {
      "text/plain": [
       "<matplotlib.figure.Figure at 0x1a3026f590>"
      ]
     },
     "metadata": {},
     "output_type": "display_data"
    }
   ],
   "source": []
  },
  {
   "cell_type": "code",
   "execution_count": null,
   "metadata": {},
   "outputs": [],
   "source": []
  }
 ],
 "metadata": {
  "kernelspec": {
   "display_name": "dl",
   "language": "python",
   "name": "dl"
  },
  "language_info": {
   "codemirror_mode": {
    "name": "ipython",
    "version": 2
   },
   "file_extension": ".py",
   "mimetype": "text/x-python",
   "name": "python",
   "nbconvert_exporter": "python",
   "pygments_lexer": "ipython2",
   "version": "2.7.13"
  }
 },
 "nbformat": 4,
 "nbformat_minor": 2
}
