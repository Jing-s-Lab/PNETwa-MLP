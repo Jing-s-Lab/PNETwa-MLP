{
 "cells": [
  {
   "cell_type": "code",
   "execution_count": 66,
   "metadata": {},
   "outputs": [],
   "source": [
    "import numpy as np\n",
    "from matplotlib import pyplot as plt\n",
    "\n",
    "\n",
    "cmap = \"Pastel1\"\n",
    "# cmap = \"gist_stern\""
   ]
  },
  {
   "cell_type": "code",
   "execution_count": 245,
   "metadata": {},
   "outputs": [
    {
     "data": {
      "image/png": "[encoded data removed]",
      "text/plain": [
       "<Figure size 432x288 with 1 Axes>"
      ]
     },
     "metadata": {},
     "output_type": "display_data"
    }
   ],
   "source": [
    "fig, ax = plt.subplots()\n",
    "arr = np.random.rand(6,3)\n",
    "plt.imshow(arr, extent=[0, 600, 0, 1200], cmap=cmap, alpha = 0.9)\n",
    "plt.xticks([],[])\n",
    "plt.yticks([],[])\n",
    "# plt.ytickslabels()\n",
    "ax.spines['top'].set_visible(False)\n",
    "ax.spines['right'].set_visible(False)\n",
    "ax.spines['bottom'].set_visible(False)\n",
    "ax.spines['left'].set_visible(False)\n",
    "plt.savefig('weights.png', dpi=100)"
   ]
  },
  {
   "cell_type": "code",
   "execution_count": 256,
   "metadata": {},
   "outputs": [
    {
     "data": {
      "image/png": "[encoded data removed]",
      "text/plain": [
       "<Figure size 432x288 with 1 Axes>"
      ]
     },
     "metadata": {},
     "output_type": "display_data"
    }
   ],
   "source": [
    "y= np.random.rand(3,1)\n",
    "fig, ax = plt.subplots()\n",
    "plt.imshow(y, extent=[0, 200, 0, 600], cmap=cmap, alpha = 0.9)\n",
    "plt.xticks([],[])\n",
    "plt.yticks([],[])\n",
    "ax.spines['top'].set_visible(False)\n",
    "ax.spines['right'].set_visible(False)\n",
    "ax.spines['bottom'].set_visible(False)\n",
    "ax.spines['left'].set_visible(False)\n",
    "plt.savefig('y.png', dpi=100)"
   ]
  },
  {
   "cell_type": "code",
   "execution_count": 220,
   "metadata": {},
   "outputs": [
    {
     "data": {
      "image/png": "[encoded data removed]",
      "text/plain": [
       "<Figure size 432x288 with 1 Axes>"
      ]
     },
     "metadata": {},
     "output_type": "display_data"
    }
   ],
   "source": [
    "b= np.random.rand(3,1)\n",
    "fig, ax = plt.subplots()\n",
    "plt.imshow(b, extent=[0, 200, 0, 600], cmap=cmap, alpha = 0.9)\n",
    "plt.xticks([],[])\n",
    "plt.yticks([],[])\n",
    "ax.spines['top'].set_visible(False)\n",
    "ax.spines['right'].set_visible(False)\n",
    "ax.spines['bottom'].set_visible(False)\n",
    "ax.spines['left'].set_visible(False)\n",
    "plt.savefig('b.png', dpi=100)"
   ]
  },
  {
   "cell_type": "code",
   "execution_count": 222,
   "metadata": {},
   "outputs": [
    {
     "data": {
      "image/png": "[encoded data removed]",
      "text/plain": [
       "<Figure size 432x288 with 1 Axes>"
      ]
     },
     "metadata": {},
     "output_type": "display_data"
    }
   ],
   "source": [
    "x= np.random.rand(6,1)\n",
    "fig, ax = plt.subplots()\n",
    "plt.imshow(x, extent=[0, 200, 0, 1200], cmap=cmap, alpha = 0.9)\n",
    "plt.xticks([],[])\n",
    "plt.yticks([],[])\n",
    "ax.spines['top'].set_visible(False)\n",
    "ax.spines['right'].set_visible(False)\n",
    "ax.spines['bottom'].set_visible(False)\n",
    "ax.spines['left'].set_visible(False)\n",
    "plt.savefig('x.png', dpi=100)"
   ]
  },
  {
   "cell_type": "code",
   "execution_count": 271,
   "metadata": {},
   "outputs": [
    {
     "data": {
      "image/png": "[encoded data removed]",
      "text/plain": [
       "<Figure size 432x288 with 1 Axes>"
      ]
     },
     "metadata": {},
     "output_type": "display_data"
    }
   ],
   "source": [
    "fig, ax = plt.subplots()\n",
    "# arr = np.random.rand(6,3)\n",
    "\n",
    "mask = np.random.randint(2, size=(6,3))\n",
    "\n",
    "row = np.array([0, 1, 1, 2, 3, 4, 5])\n",
    "col = np.array([0, 0, 2, 0, 1, 2, 0])\n",
    "data = np.array([1, 1, 1, 1, 1, 1, 1])\n",
    "mask= csr_matrix((data, (row, col)), shape=(6, 3)).toarray()\n",
    "\n",
    "# plt.imshow(mask, extent=[0, 500, 0, 1000], cmap=\"binary\", alpha = 0.9)\n",
    "plt.imshow(1-mask, extent=[0, 500, 0, 1000], cmap=cmap, alpha = 0.9)\n",
    "\n",
    "plt.xticks([],[])\n",
    "plt.yticks([],[])\n",
    "ax.spines['top'].set_visible(False)\n",
    "ax.spines['right'].set_visible(False)\n",
    "ax.spines['bottom'].set_visible(False)\n",
    "ax.spines['left'].set_visible(False)\n",
    "plt.savefig('mask_sparse.png', dpi=100)"
   ]
  },
  {
   "cell_type": "code",
   "execution_count": 270,
   "metadata": {},
   "outputs": [
    {
     "name": "stdout",
     "output_type": "stream",
     "text": [
      "[[0.6441893  0.         0.        ]\n",
      " [0.07065762 0.         0.77140383]\n",
      " [0.69323791 0.         0.        ]\n",
      " [0.         0.21766468 0.        ]\n",
      " [0.         0.         0.07984717]\n",
      " [0.9452726  0.         0.        ]]\n"
     ]
    },
    {
     "data": {
      "image/png": "[encoded data removed]",
      "text/plain": [
       "<Figure size 432x288 with 1 Axes>"
      ]
     },
     "metadata": {},
     "output_type": "display_data"
    }
   ],
   "source": [
    "d=mask*arr\n",
    "print d\n",
    "fig, ax = plt.subplots()\n",
    "d[d==0] = 1\n",
    "plt.imshow(d, extent=[0, 500, 0, 1000], cmap=cmap, alpha = 0.9)\n",
    "plt.xticks([],[])\n",
    "plt.yticks([],[])\n",
    "ax.spines['top'].set_visible(False)\n",
    "ax.spines['right'].set_visible(False)\n",
    "ax.spines['bottom'].set_visible(False)\n",
    "ax.spines['left'].set_visible(False)\n",
    "plt.savefig('sparse.png', dpi=100)"
   ]
  },
  {
   "cell_type": "code",
   "execution_count": null,
   "metadata": {},
   "outputs": [],
   "source": []
  },
  {
   "cell_type": "markdown",
   "metadata": {},
   "source": [
    "## patterned"
   ]
  },
  {
   "cell_type": "code",
   "execution_count": 92,
   "metadata": {},
   "outputs": [
    {
     "data": {
      "text/plain": [
       "array([[1, 0, 0],\n",
       "       [1, 0, 0],\n",
       "       [0, 1, 0],\n",
       "       [0, 1, 0],\n",
       "       [0, 0, 1],\n",
       "       [0, 0, 1]])"
      ]
     },
     "execution_count": 92,
     "metadata": {},
     "output_type": "execute_result"
    }
   ],
   "source": [
    "from scipy.sparse import csr_matrix\n",
    "\n",
    "\n"
   ]
  },
  {
   "cell_type": "code",
   "execution_count": 269,
   "metadata": {},
   "outputs": [
    {
     "name": "stdout",
     "output_type": "stream",
     "text": [
      "[[1 0 0]\n",
      " [1 0 0]\n",
      " [0 1 0]\n",
      " [0 1 0]\n",
      " [0 0 1]\n",
      " [0 0 1]]\n"
     ]
    },
    {
     "data": {
      "text/plain": [
       "([], <a list of 0 Text yticklabel objects>)"
      ]
     },
     "execution_count": 269,
     "metadata": {},
     "output_type": "execute_result"
    },
    {
     "data": {
      "image/png": "[encoded data removed]",
      "text/plain": [
       "<Figure size 432x288 with 1 Axes>"
      ]
     },
     "metadata": {},
     "output_type": "display_data"
    }
   ],
   "source": [
    "fig, ax = plt.subplots()\n",
    "\n",
    "row = np.array([0, 1, 2, 3, 4, 5])\n",
    "col = np.array([0, 0, 1, 1, 2, 2])\n",
    "data = np.array([1, 1, 1, 1, 1, 1])\n",
    "pattern_mask= csr_matrix((data, (row, col)), shape=(6, 3)).toarray()\n",
    "\n",
    "print pattern_mask\n",
    "\n",
    "# plt.imshow(1-pattern_mask, extent=[0, 500, 0, 1000], cmap=\"binary\", alpha = 0.9)\n",
    "plt.imshow(1-pattern_mask, extent=[0, 500, 0, 1000], cmap=cmap, alpha = 0.9)\n",
    "\n",
    "plt.xticks([],[])\n",
    "plt.yticks([],[])\n",
    "# ax.spines['top'].set_visible(False)\n",
    "# ax.spines['right'].set_visible(False)\n",
    "# ax.spines['bottom'].set_visible(False)\n",
    "# ax.spines['left'].set_visible(False)\n",
    "# plt.savefig('mask_pattern.png', dpi=100)"
   ]
  },
  {
   "cell_type": "code",
   "execution_count": 264,
   "metadata": {},
   "outputs": [
    {
     "name": "stdout",
     "output_type": "stream",
     "text": [
      "[[0.6441893  0.         0.        ]\n",
      " [0.07065762 0.         0.        ]\n",
      " [0.         0.82089245 0.        ]\n",
      " [0.         0.21766468 0.        ]\n",
      " [0.         0.         0.07984717]\n",
      " [0.         0.         0.25828437]]\n"
     ]
    },
    {
     "data": {
      "image/png": "[encoded data removed]",
      "text/plain": [
       "<Figure size 432x288 with 1 Axes>"
      ]
     },
     "metadata": {},
     "output_type": "display_data"
    }
   ],
   "source": [
    "d=pattern_mask*arr\n",
    "print d\n",
    "fig, ax = plt.subplots()\n",
    "d[d==0] = 1\n",
    "plt.imshow(d, extent=[0, 500, 0, 1000], cmap=cmap, alpha = 0.9)\n",
    "plt.xticks([],[])\n",
    "plt.yticks([],[])\n",
    "ax.spines['top'].set_visible(False)\n",
    "ax.spines['right'].set_visible(False)\n",
    "ax.spines['bottom'].set_visible(False)\n",
    "ax.spines['left'].set_visible(False)\n",
    "plt.savefig('pattern.png', dpi=100)"
   ]
  },
  {
   "cell_type": "code",
   "execution_count": null,
   "metadata": {},
   "outputs": [],
   "source": []
  },
  {
   "cell_type": "code",
   "execution_count": null,
   "metadata": {},
   "outputs": [],
   "source": []
  }
 ],
 "metadata": {
  "kernelspec": {
   "display_name": "Python [conda env:min_env]",
   "language": "python",
   "name": "conda-env-min_env-py"
  },
  "language_info": {
   "codemirror_mode": {
    "name": "ipython",
    "version": 2
   },
   "file_extension": ".py",
   "mimetype": "text/x-python",
   "name": "python",
   "nbconvert_exporter": "python",
   "pygments_lexer": "ipython2",
   "version": "2.7.15"
  }
 },
 "nbformat": 4,
 "nbformat_minor": 2
}
